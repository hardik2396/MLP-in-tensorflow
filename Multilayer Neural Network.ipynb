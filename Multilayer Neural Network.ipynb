{
 "cells": [
  {
   "cell_type": "code",
   "execution_count": 1,
   "metadata": {
    "collapsed": true
   },
   "outputs": [],
   "source": [
    "import tensorflow as tf"
   ]
  },
  {
   "cell_type": "code",
   "execution_count": 2,
   "metadata": {
    "collapsed": true
   },
   "outputs": [
    {
     "name": "stdout",
     "output_type": "stream",
     "text": [
      "Successfully downloaded train-images-idx3-ubyte.gz 9912422 bytes.\n",
      "Extracting /tmp/data/train-images-idx3-ubyte.gz\n",
      "Successfully downloaded train-labels-idx1-ubyte.gz 28881 bytes.\n",
      "Extracting /tmp/data/train-labels-idx1-ubyte.gz\n",
      "Successfully downloaded t10k-images-idx3-ubyte.gz 1648877 bytes.\n",
      "Extracting /tmp/data/t10k-images-idx3-ubyte.gz\n",
      "Successfully downloaded t10k-labels-idx1-ubyte.gz 4542 bytes.\n",
      "Extracting /tmp/data/t10k-labels-idx1-ubyte.gz\n"
     ]
    }
   ],
   "source": [
    "from tensorflow.examples.tutorials.mnist import input_data\n",
    "mnist=input_data.read_data_sets(\"/tmp/data/\",one_hot=True)"
   ]
  },
  {
   "cell_type": "code",
   "execution_count": 50,
   "metadata": {
    "collapsed": true
   },
   "outputs": [],
   "source": [
    "# define number of neuron (parameter) first\n",
    "n_hidden_1=256\n",
    "n_hidden_2=256\n",
    "n_input=784\n",
    "n_output=10\n"
   ]
  },
  {
   "cell_type": "code",
   "execution_count": 51,
   "metadata": {
    "collapsed": true
   },
   "outputs": [],
   "source": [
    "#store data\n",
    "x=tf.placeholder('float',[None,n_input])\n",
    "y=tf.placeholder('float',[None,n_output])"
   ]
  },
  {
   "cell_type": "code",
   "execution_count": 52,
   "metadata": {
    "collapsed": false
   },
   "outputs": [],
   "source": [
    "# define model architecture \n",
    "\n",
    "weights={'h1':tf.Variable(tf.random_normal(shape=[n_input,n_hidden_1])),\n",
    "         'h2':tf.Variable(tf.random_normal([n_hidden_1,n_hidden_2])),\n",
    "         'out':tf.Variable(tf.random_normal([n_hidden_2,n_output]))}\n",
    "biases={'h1':tf.Variable(tf.random_normal([n_hidden_1])),\n",
    "        'h2':tf.Variable(tf.random_normal([n_hidden_2])),\n",
    "        'out':tf.Variable(tf.random_normal([n_output]))\n",
    "        }\n"
   ]
  },
  {
   "cell_type": "code",
   "execution_count": 53,
   "metadata": {
    "collapsed": false
   },
   "outputs": [],
   "source": [
    "#build model \n",
    "output_h1=tf.matmul(x,weights['h1'])+biases['h1']\n",
    "output_h1=tf.nn.relu(output_h1)\n",
    "output_h2=tf.matmul(output_h1,weights['h2'])+biases['h2']\n",
    "output_h2=tf.nn.relu(output_h2)\n",
    "output=tf.matmul(output_h2,weights['out'])+biases['out']"
   ]
  },
  {
   "cell_type": "code",
   "execution_count": 62,
   "metadata": {
    "collapsed": false
   },
   "outputs": [],
   "source": [
    "#Define Loss\n",
    "cost=tf.reduce_sum(tf.nn.softmax_cross_entropy_with_logits(output,y))\n",
    "optimise=tf.train.AdamOptimizer(learning_rate=0.02).minimize(cost)\n",
    "summary=tf.summary.FileWriter('hardik',sess.graph)"
   ]
  },
  {
   "cell_type": "code",
   "execution_count": 61,
   "metadata": {
    "collapsed": false
   },
   "outputs": [
    {
     "name": "stdout",
     "output_type": "stream",
     "text": [
      "('epoch', 0, 'loss is', 1715003.6560707092)\n",
      "('epoch', 1, 'loss is', 243323.10692044083)\n",
      "('epoch', 2, 'loss is', 110948.830070436)\n",
      "('epoch', 3, 'loss is', 67317.793077746435)\n",
      "('epoch', 4, 'loss is', 39596.687684246339)\n",
      "('epoch', 5, 'loss is', 20767.949914455414)\n",
      "('epoch', 6, 'loss is', 15597.011607944965)\n",
      "('epoch', 7, 'loss is', 17397.761295825243)\n",
      "('epoch', 8, 'loss is', 15078.250209331512)\n",
      "('epoch', 9, 'loss is', 14850.449186384678)\n",
      "0.9408\n"
     ]
    }
   ],
   "source": [
    "#start session\n",
    "with tf.Session() as sess:\n",
    "    sess.run(tf.global_variables_initializer())\n",
    "    n=10\n",
    "    batch_size=100\n",
    "    example_batchsize=mnist.train.num_examples/batch_size\n",
    "    for i in range(n):\n",
    "        loss=0\n",
    "        for j in range(example_batchsize):\n",
    "            batch_x,batch_y=mnist.train.next_batch(batch_size)\n",
    "            _,los=sess.run([optimise,cost],feed_dict={x:batch_x,y:batch_y} )\n",
    "            loss+=los\n",
    "        print('epoch',i, 'loss is',loss)\n",
    "    correct_pridiction=tf.equal(tf.argmax(output,1),tf.argmax(y,1))\n",
    "    accuracy=tf.reduce_mean(tf.cast(correct_pridiction,'float'))\n",
    "    a=sess.run(accuracy,feed_dict={x:mnist.test.images,y:mnist.test.labels})\n",
    "    print(a)\n",
    "    "
   ]
  },
  {
   "cell_type": "code",
   "execution_count": null,
   "metadata": {
    "collapsed": true
   },
   "outputs": [],
   "source": []
  }
 ],
 "metadata": {
  "kernelspec": {
   "display_name": "Python 2",
   "language": "python",
   "name": "python2"
  },
  "language_info": {
   "codemirror_mode": {
    "name": "ipython",
    "version": 2
   },
   "file_extension": ".py",
   "mimetype": "text/x-python",
   "name": "python",
   "nbconvert_exporter": "python",
   "pygments_lexer": "ipython2",
   "version": "2.7.6"
  }
 },
 "nbformat": 4,
 "nbformat_minor": 2
}
